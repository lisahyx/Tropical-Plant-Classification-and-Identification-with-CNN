{
 "cells": [
  {
   "cell_type": "markdown",
   "metadata": {
    "id": "yytgmZgRx2xo"
   },
   "source": [
    "Lisa Ho Yen Xin 20297507"
   ]
  },
  {
   "cell_type": "markdown",
   "metadata": {
    "id": "YPPZSQIXk8bC",
    "tags": []
   },
   "source": [
    "# [1] Import Functions"
   ]
  },
  {
   "cell_type": "markdown",
   "metadata": {
    "id": "p19IHFZbxLFK"
   },
   "source": [
    "## [1.1] Google Colab"
   ]
  },
  {
   "cell_type": "code",
   "execution_count": 1,
   "metadata": {
    "colab": {
     "base_uri": "https://localhost:8080/"
    },
    "executionInfo": {
     "elapsed": 3398,
     "status": "ok",
     "timestamp": 1711113175079,
     "user": {
      "displayName": "Lisa",
      "userId": "18166468942816240099"
     },
     "user_tz": -480
    },
    "id": "LmWseUlivtgU",
    "outputId": "74a8610c-e671-45f8-dd01-0690347f0aa8"
   },
   "outputs": [
    {
     "name": "stdout",
     "output_type": "stream",
     "text": [
      "Drive already mounted at /content/drive; to attempt to forcibly remount, call drive.mount(\"/content/drive\", force_remount=True).\n"
     ]
    }
   ],
   "source": [
    "from google.colab import drive\n",
    "drive.mount('/content/drive')"
   ]
  },
  {
   "cell_type": "code",
   "execution_count": 2,
   "metadata": {
    "executionInfo": {
     "elapsed": 12484,
     "status": "ok",
     "timestamp": 1711113187559,
     "user": {
      "displayName": "Lisa",
      "userId": "18166468942816240099"
     },
     "user_tz": -480
    },
    "id": "Uvxee7OUvu9m"
   },
   "outputs": [],
   "source": [
    "%run /content/drive/MyDrive/FYP/ImportFunctions.ipynb"
   ]
  },
  {
   "cell_type": "markdown",
   "metadata": {
    "id": "nDKSAfNaxN-x"
   },
   "source": [
    "## [1.2] Jupyter"
   ]
  },
  {
   "cell_type": "code",
   "execution_count": 1,
   "metadata": {
    "id": "bXMulHuGxQ_g"
   },
   "outputs": [
    {
     "name": "stderr",
     "output_type": "stream",
     "text": [
      "2024-04-02 17:36:54.186885: I tensorflow/core/platform/cpu_feature_guard.cc:193] This TensorFlow binary is optimized with oneAPI Deep Neural Network Library (oneDNN) to use the following CPU instructions in performance-critical operations:  AVX2 FMA\n",
      "To enable them in other operations, rebuild TensorFlow with the appropriate compiler flags.\n",
      "2024-04-02 17:36:55.905790: W tensorflow/compiler/xla/stream_executor/platform/default/dso_loader.cc:64] Could not load dynamic library 'libcudart.so.11.0'; dlerror: libcudart.so.11.0: cannot open shared object file: No such file or directory\n",
      "2024-04-02 17:36:55.905825: I tensorflow/compiler/xla/stream_executor/cuda/cudart_stub.cc:29] Ignore above cudart dlerror if you do not have a GPU set up on your machine.\n",
      "2024-04-02 17:37:01.052965: W tensorflow/compiler/xla/stream_executor/platform/default/dso_loader.cc:64] Could not load dynamic library 'libnvinfer.so.7'; dlerror: libnvinfer.so.7: cannot open shared object file: No such file or directory\n",
      "2024-04-02 17:37:01.054711: W tensorflow/compiler/xla/stream_executor/platform/default/dso_loader.cc:64] Could not load dynamic library 'libnvinfer_plugin.so.7'; dlerror: libnvinfer_plugin.so.7: cannot open shared object file: No such file or directory\n",
      "2024-04-02 17:37:01.054724: W tensorflow/compiler/tf2tensorrt/utils/py_utils.cc:38] TF-TRT Warning: Cannot dlopen some TensorRT libraries. If you would like to use Nvidia GPU with TensorRT, please make sure the missing libraries mentioned above are installed properly.\n"
     ]
    }
   ],
   "source": [
    "%run ImportFunctions.ipynb"
   ]
  },
  {
   "cell_type": "markdown",
   "metadata": {
    "id": "cDPrUqTFlHro"
   },
   "source": [
    "# [2] Import Libraries"
   ]
  },
  {
   "cell_type": "code",
   "execution_count": 2,
   "metadata": {
    "executionInfo": {
     "elapsed": 656,
     "status": "ok",
     "timestamp": 1711113188212,
     "user": {
      "displayName": "Lisa",
      "userId": "18166468942816240099"
     },
     "user_tz": -480
    },
    "id": "FFuqb5DCdLDX"
   },
   "outputs": [],
   "source": [
    "import cv2\n",
    "import numpy as np\n",
    "import seaborn as sns\n",
    "from keras.utils import plot_model\n",
    "from sklearn.metrics import (\n",
    "    accuracy_score,\n",
    "    confusion_matrix,\n",
    "    precision_recall_fscore_support,\n",
    ")\n",
    "from sklearn.model_selection import train_test_split\n",
    "from tabulate import tabulate\n",
    "import tensorflow as tf"
   ]
  },
  {
   "cell_type": "markdown",
   "metadata": {
    "id": "lDCsfN_ElQlu"
   },
   "source": [
    "# [3] Load Dataset"
   ]
  },
  {
   "cell_type": "markdown",
   "metadata": {
    "id": "eXOV22rn0FnX"
   },
   "source": [
    "## [3.1] Google Colab"
   ]
  },
  {
   "cell_type": "code",
   "execution_count": 4,
   "metadata": {
    "executionInfo": {
     "elapsed": 3654,
     "status": "ok",
     "timestamp": 1711113195147,
     "user": {
      "displayName": "Lisa",
      "userId": "18166468942816240099"
     },
     "user_tz": -480
    },
    "id": "GIWZP5cPvsnx"
   },
   "outputs": [],
   "source": [
    "# Load images and labels\n",
    "images = np.load('/content/drive/My Drive/FYP/dataset/images460.npy')\n",
    "labels = np.load('/content/drive/My Drive/FYP/dataset/labels460.npy')"
   ]
  },
  {
   "cell_type": "markdown",
   "metadata": {
    "id": "9xKfpalt0FnY"
   },
   "source": [
    "## [3.2] Jupyter"
   ]
  },
  {
   "cell_type": "code",
   "execution_count": 3,
   "metadata": {
    "id": "RFNc2NIP0FnY"
   },
   "outputs": [],
   "source": [
    "# Load images and labels\n",
    "images = np.load('dataset/images460.npy')\n",
    "labels = np.load('dataset/labels460.npy')"
   ]
  },
  {
   "cell_type": "markdown",
   "metadata": {
    "id": "F4bu2sWy0FnZ"
   },
   "source": [
    "# [4] Prepare Dataset"
   ]
  },
  {
   "cell_type": "code",
   "execution_count": 4,
   "metadata": {
    "executionInfo": {
     "elapsed": 13704,
     "status": "ok",
     "timestamp": 1711113209301,
     "user": {
      "displayName": "Lisa",
      "userId": "18166468942816240099"
     },
     "user_tz": -480
    },
    "id": "HC1WxsTM0LGY"
   },
   "outputs": [],
   "source": [
    "images = resize_images(images, (299,299))"
   ]
  },
  {
   "cell_type": "code",
   "execution_count": 5,
   "metadata": {
    "colab": {
     "base_uri": "https://localhost:8080/"
    },
    "executionInfo": {
     "elapsed": 7,
     "status": "ok",
     "timestamp": 1711113209302,
     "user": {
      "displayName": "Lisa",
      "userId": "18166468942816240099"
     },
     "user_tz": -480
    },
    "id": "5Q3fOB7adUs8",
    "outputId": "69df9bb6-688f-4861-884a-3889ee362c7e"
   },
   "outputs": [
    {
     "name": "stdout",
     "output_type": "stream",
     "text": [
      "+--------------+--------------------+\n",
      "| Array Name   | Shape              |\n",
      "+==============+====================+\n",
      "| Images       | (460, 299, 299, 3) |\n",
      "+--------------+--------------------+\n",
      "| Labels       | (460,)             |\n",
      "+--------------+--------------------+\n"
     ]
    }
   ],
   "source": [
    "# Display array shapes\n",
    "display_array_shapes(images, labels)"
   ]
  },
  {
   "cell_type": "code",
   "execution_count": 6,
   "metadata": {
    "colab": {
     "base_uri": "https://localhost:8080/"
    },
    "executionInfo": {
     "elapsed": 5,
     "status": "ok",
     "timestamp": 1711113209302,
     "user": {
      "displayName": "Lisa",
      "userId": "18166468942816240099"
     },
     "user_tz": -480
    },
    "id": "zbmIrtP6_SG7",
    "outputId": "9d6fd7dd-3ad3-4406-bdb2-a17a76d5f7f9"
   },
   "outputs": [
    {
     "name": "stdout",
     "output_type": "stream",
     "text": [
      "Number of unique labels: 9\n"
     ]
    }
   ],
   "source": [
    "# Get the number of unique labels\n",
    "num_classes = len(np.unique(labels))\n",
    "\n",
    "print(\"Number of unique labels:\", num_classes)"
   ]
  },
  {
   "cell_type": "code",
   "execution_count": 7,
   "metadata": {
    "executionInfo": {
     "elapsed": 4,
     "status": "ok",
     "timestamp": 1711113209303,
     "user": {
      "displayName": "Lisa",
      "userId": "18166468942816240099"
     },
     "user_tz": -480
    },
    "id": "OzTVaF182bu_"
   },
   "outputs": [],
   "source": [
    "# Binarize labels\n",
    "labels_binarized = binarize_labels(labels)"
   ]
  },
  {
   "cell_type": "markdown",
   "metadata": {
    "id": "Swwq3CkUmQZ3"
   },
   "source": [
    "# [5] Train Model"
   ]
  },
  {
   "cell_type": "code",
   "execution_count": 8,
   "metadata": {
    "colab": {
     "base_uri": "https://localhost:8080/"
    },
    "executionInfo": {
     "elapsed": 581,
     "status": "ok",
     "timestamp": 1711113209880,
     "user": {
      "displayName": "Lisa",
      "userId": "18166468942816240099"
     },
     "user_tz": -480
    },
    "id": "1d10p9SAlPIL",
    "outputId": "9dad0efd-9311-4f12-d76e-d82c10433d57"
   },
   "outputs": [
    {
     "name": "stdout",
     "output_type": "stream",
     "text": [
      "Train shape: (368, 299, 299, 3) (368, 9)\n",
      "Validation shape: (46, 299, 299, 3) (46, 9)\n",
      "Test shape: (46, 299, 299, 3) (46, 9)\n"
     ]
    }
   ],
   "source": [
    "# Split the data into training and validation sets\n",
    "X_train, X_temp, y_train, y_temp = train_test_split(images, labels_binarized, test_size=0.2, random_state=42)\n",
    "\n",
    "# Further split the temporary data into validation and testing sets\n",
    "X_val, X_test, y_val, y_test = train_test_split(X_temp, y_temp, test_size=0.5, random_state=42)\n",
    "\n",
    "print(\"Train shape:\", X_train.shape, y_train.shape)\n",
    "print(\"Validation shape:\", X_val.shape, y_val.shape)\n",
    "print(\"Test shape:\", X_test.shape, y_test.shape)"
   ]
  },
  {
   "cell_type": "code",
   "execution_count": 9,
   "metadata": {
    "colab": {
     "base_uri": "https://localhost:8080/"
    },
    "executionInfo": {
     "elapsed": 5463,
     "status": "ok",
     "timestamp": 1711113215340,
     "user": {
      "displayName": "Lisa",
      "userId": "18166468942816240099"
     },
     "user_tz": -480
    },
    "id": "k44bH83VVJlP",
    "outputId": "d08281f4-85cb-4a99-a4f8-b1bd5bd438a7"
   },
   "outputs": [
    {
     "name": "stderr",
     "output_type": "stream",
     "text": [
      "2024-04-02 17:37:47.468768: E tensorflow/compiler/xla/stream_executor/cuda/cuda_driver.cc:267] failed call to cuInit: CUDA_ERROR_NO_DEVICE: no CUDA-capable device is detected\n",
      "2024-04-02 17:37:47.475572: I tensorflow/compiler/xla/stream_executor/cuda/cuda_diagnostics.cc:156] kernel driver does not appear to be running on this host (LSPMHPCHN01): /proc/driver/nvidia/version does not exist\n",
      "2024-04-02 17:37:47.483937: I tensorflow/core/platform/cpu_feature_guard.cc:193] This TensorFlow binary is optimized with oneAPI Deep Neural Network Library (oneDNN) to use the following CPU instructions in performance-critical operations:  AVX2 FMA\n",
      "To enable them in other operations, rebuild TensorFlow with the appropriate compiler flags.\n"
     ]
    }
   ],
   "source": [
    "# Build and compile InceptionV3 model\n",
    "inceptionv3_model = build_and_compile_inceptionv3_model(num_classes)"
   ]
  },
  {
   "cell_type": "code",
   "execution_count": 10,
   "metadata": {
    "colab": {
     "base_uri": "https://localhost:8080/"
    },
    "executionInfo": {
     "elapsed": 1145113,
     "status": "ok",
     "timestamp": 1711114360444,
     "user": {
      "displayName": "Lisa",
      "userId": "18166468942816240099"
     },
     "user_tz": -480
    },
    "id": "TZtkQFpIVMPy",
    "outputId": "675729ad-a1b7-4ad3-ce3c-23fc62be326e"
   },
   "outputs": [
    {
     "name": "stderr",
     "output_type": "stream",
     "text": [
      "2024-04-02 17:37:55.370992: W tensorflow/tsl/framework/cpu_allocator_impl.cc:82] Allocation of 394794816 exceeds 10% of free system memory.\n"
     ]
    },
    {
     "name": "stdout",
     "output_type": "stream",
     "text": [
      "Epoch 1/10\n"
     ]
    },
    {
     "name": "stderr",
     "output_type": "stream",
     "text": [
      "2024-04-02 17:38:03.728350: W tensorflow/tsl/framework/cpu_allocator_impl.cc:82] Allocation of 232339968 exceeds 10% of free system memory.\n"
     ]
    },
    {
     "name": "stdout",
     "output_type": "stream",
     "text": [
      "1/9 [==>...........................] - ETA: 1:12 - loss: 2.9256 - accuracy: 0.0476"
     ]
    },
    {
     "name": "stderr",
     "output_type": "stream",
     "text": [
      "2024-04-02 17:38:06.519757: W tensorflow/tsl/framework/cpu_allocator_impl.cc:82] Allocation of 232339968 exceeds 10% of free system memory.\n"
     ]
    },
    {
     "name": "stdout",
     "output_type": "stream",
     "text": [
      "2/9 [=====>........................] - ETA: 11s - loss: 13.1638 - accuracy: 0.2143"
     ]
    },
    {
     "name": "stderr",
     "output_type": "stream",
     "text": [
      "2024-04-02 17:38:07.874463: W tensorflow/tsl/framework/cpu_allocator_impl.cc:82] Allocation of 232339968 exceeds 10% of free system memory.\n"
     ]
    },
    {
     "name": "stdout",
     "output_type": "stream",
     "text": [
      "3/9 [=========>....................] - ETA: 9s - loss: 16.1105 - accuracy: 0.2381 "
     ]
    },
    {
     "name": "stderr",
     "output_type": "stream",
     "text": [
      "2024-04-02 17:38:09.213477: W tensorflow/tsl/framework/cpu_allocator_impl.cc:82] Allocation of 232339968 exceeds 10% of free system memory.\n"
     ]
    },
    {
     "name": "stdout",
     "output_type": "stream",
     "text": [
      "9/9 [==============================] - 26s 2s/step - loss: 21.3473 - accuracy: 0.3315 - val_loss: 22.8851 - val_accuracy: 0.3478\n",
      "Epoch 2/10\n",
      "9/9 [==============================] - 15s 2s/step - loss: 8.8906 - accuracy: 0.5815 - val_loss: 16.2766 - val_accuracy: 0.5000\n",
      "Epoch 3/10\n",
      "9/9 [==============================] - 13s 1s/step - loss: 3.2095 - accuracy: 0.7908 - val_loss: 11.1199 - val_accuracy: 0.5217\n",
      "Epoch 4/10\n",
      "9/9 [==============================] - 12s 1s/step - loss: 0.8023 - accuracy: 0.8832 - val_loss: 11.4310 - val_accuracy: 0.5870\n",
      "Epoch 5/10\n",
      "9/9 [==============================] - 12s 1s/step - loss: 0.1807 - accuracy: 0.9701 - val_loss: 15.2668 - val_accuracy: 0.5435\n",
      "Epoch 6/10\n",
      "9/9 [==============================] - 11s 1s/step - loss: 0.1057 - accuracy: 0.9810 - val_loss: 15.2376 - val_accuracy: 0.5000\n",
      "Epoch 7/10\n",
      "9/9 [==============================] - 11s 1s/step - loss: 0.0114 - accuracy: 0.9973 - val_loss: 13.2036 - val_accuracy: 0.4783\n",
      "Epoch 8/10\n",
      "9/9 [==============================] - 11s 1s/step - loss: 0.0023 - accuracy: 0.9973 - val_loss: 12.9679 - val_accuracy: 0.4565\n",
      "Epoch 9/10\n",
      "9/9 [==============================] - 11s 1s/step - loss: 4.6430e-05 - accuracy: 1.0000 - val_loss: 13.1214 - val_accuracy: 0.4565\n",
      "Epoch 10/10\n",
      "9/9 [==============================] - 11s 1s/step - loss: 2.6940e-05 - accuracy: 1.0000 - val_loss: 13.1833 - val_accuracy: 0.4565\n",
      "2/2 [==============================] - 1s 479ms/step - loss: 13.1833 - accuracy: 0.4565\n"
     ]
    }
   ],
   "source": [
    "# Train the model\n",
    "inceptionv3_history = inceptionv3_model.fit(X_train, y_train, batch_size=42, validation_data=(X_val, y_val), epochs=10)\n",
    "\n",
    "# Evaluate the model on the validation data\n",
    "inceptionv3_loss, inceptionv3_accuracy = inceptionv3_model.evaluate(X_val, y_val)"
   ]
  },
  {
   "cell_type": "code",
   "execution_count": 11,
   "metadata": {
    "colab": {
     "base_uri": "https://localhost:8080/"
    },
    "executionInfo": {
     "elapsed": 11,
     "status": "ok",
     "timestamp": 1711114360445,
     "user": {
      "displayName": "Lisa",
      "userId": "18166468942816240099"
     },
     "user_tz": -480
    },
    "id": "7hSeGG7fvsnz",
    "outputId": "78a01ad1-517c-4c45-c36b-13476a96621c"
   },
   "outputs": [
    {
     "name": "stdout",
     "output_type": "stream",
     "text": [
      "Average Validation Loss: 14.469318771362305, Average Validation Accuracy: 0.48478260934352874\n"
     ]
    }
   ],
   "source": [
    "# Calculate average loss and accuracy\n",
    "average_loss = sum(inceptionv3_history.history['val_loss']) / len(inceptionv3_history.history['val_loss'])\n",
    "average_accuracy = sum(inceptionv3_history.history['val_accuracy']) / len(inceptionv3_history.history['val_accuracy'])\n",
    "\n",
    "print(f\"Average Validation Loss: {average_loss}, Average Validation Accuracy: {average_accuracy}\")"
   ]
  },
  {
   "cell_type": "code",
   "execution_count": 12,
   "metadata": {
    "colab": {
     "base_uri": "https://localhost:8080/",
     "height": 487
    },
    "executionInfo": {
     "elapsed": 1025,
     "status": "ok",
     "timestamp": 1711114361465,
     "user": {
      "displayName": "Lisa",
      "userId": "18166468942816240099"
     },
     "user_tz": -480
    },
    "id": "U1CyuVFpymEV",
    "outputId": "6b13dad9-04f8-489e-c813-74a50d2096fe"
   },
   "outputs": [
    {
     "data": {
      "image/png": "[encoded data removed]",
      "text/plain": [
       "<Figure size 864x432 with 2 Axes>"
      ]
     },
     "metadata": {
      "needs_background": "light"
     },
     "output_type": "display_data"
    }
   ],
   "source": [
    "plot_training_history(inceptionv3_history)"
   ]
  },
  {
   "cell_type": "markdown",
   "metadata": {
    "id": "8Z2qs3U70Fnc"
   },
   "source": [
    "# [6] Save Model"
   ]
  },
  {
   "cell_type": "markdown",
   "metadata": {
    "id": "ZWBdIcPq0Fnc"
   },
   "source": [
    "## [6.1] Google Colab"
   ]
  },
  {
   "cell_type": "code",
   "execution_count": 14,
   "metadata": {
    "executionInfo": {
     "elapsed": 34845,
     "status": "ok",
     "timestamp": 1711114396306,
     "user": {
      "displayName": "Lisa",
      "userId": "18166468942816240099"
     },
     "user_tz": -480
    },
    "id": "yU84wDtcvsn0"
   },
   "outputs": [],
   "source": [
    "# Save model\n",
    "inceptionv3_model.save('/content/drive/MyDrive/FYP/models/InceptionV3_ori')"
   ]
  },
  {
   "cell_type": "markdown",
   "metadata": {
    "id": "WM4ZTqnT0Fnd"
   },
   "source": [
    "## [6.2] Jupyter"
   ]
  },
  {
   "cell_type": "code",
   "execution_count": 13,
   "metadata": {
    "id": "CW1HdUBo0Fnd",
    "outputId": "d31719bf-2894-44a2-b42e-5015fbde33c5",
    "tags": []
   },
   "outputs": [
    {
     "name": "stderr",
     "output_type": "stream",
     "text": [
      "WARNING:absl:Found untraced functions such as _jit_compiled_convolution_op, _jit_compiled_convolution_op, _jit_compiled_convolution_op, _jit_compiled_convolution_op, _jit_compiled_convolution_op while saving (showing 5 of 95). These functions will not be directly callable after loading.\n"
     ]
    },
    {
     "name": "stdout",
     "output_type": "stream",
     "text": [
      "INFO:tensorflow:Assets written to: models/InceptionV3_ori/assets\n"
     ]
    },
    {
     "name": "stderr",
     "output_type": "stream",
     "text": [
      "INFO:tensorflow:Assets written to: models/InceptionV3_ori/assets\n"
     ]
    }
   ],
   "source": [
    "# Save model\n",
    "inceptionv3_model.save('models/InceptionV3_ori')"
   ]
  },
  {
   "cell_type": "markdown",
   "metadata": {
    "id": "nX79wMZComiQ"
   },
   "source": [
    "# [6] Load Model"
   ]
  },
  {
   "cell_type": "markdown",
   "metadata": {
    "id": "h8wn7VsS0Fnd"
   },
   "source": [
    "## [6.1] Google Colab"
   ]
  },
  {
   "cell_type": "code",
   "execution_count": 15,
   "metadata": {
    "executionInfo": {
     "elapsed": 16283,
     "status": "ok",
     "timestamp": 1711114412576,
     "user": {
      "displayName": "Lisa",
      "userId": "18166468942816240099"
     },
     "user_tz": -480
    },
    "id": "0mIr8wk90Fnd"
   },
   "outputs": [],
   "source": [
    "# Load the saved model\n",
    "loaded_inceptionv3_model = tf.keras.models.load_model('/content/drive/MyDrive/FYP/models/InceptionV3_ori')"
   ]
  },
  {
   "cell_type": "markdown",
   "metadata": {
    "id": "k0ZEJqyl0Fne"
   },
   "source": [
    "## [6.2] Jupyter"
   ]
  },
  {
   "cell_type": "code",
   "execution_count": 14,
   "metadata": {
    "id": "A2dWKdYRvsn0"
   },
   "outputs": [],
   "source": [
    "# Load the saved model\n",
    "loaded_inceptionv3_model = tf.keras.models.load_model('models/InceptionV3_ori')"
   ]
  },
  {
   "cell_type": "markdown",
   "metadata": {
    "id": "Ql-nfN-z788L",
    "tags": []
   },
   "source": [
    "# [7] Test and Analyse"
   ]
  },
  {
   "cell_type": "code",
   "execution_count": 15,
   "metadata": {
    "colab": {
     "base_uri": "https://localhost:8080/"
    },
    "executionInfo": {
     "elapsed": 13202,
     "status": "ok",
     "timestamp": 1711114425772,
     "user": {
      "displayName": "Lisa",
      "userId": "18166468942816240099"
     },
     "user_tz": -480
    },
    "id": "Aq3Ym1ddoohB",
    "outputId": "f0d9b3a9-0f61-4510-bd89-29e5074b5a81"
   },
   "outputs": [
    {
     "name": "stdout",
     "output_type": "stream",
     "text": [
      "2/2 [==============================] - 5s 480ms/step - loss: 9.8757 - accuracy: 0.4130\n",
      "Test Loss: 9.87570571899414, Test Accuracy: 0.41304346919059753\n"
     ]
    }
   ],
   "source": [
    "# Evaluate the model on the test data\n",
    "inceptionv3_test_loss, inceptionv3_test_accuracy = loaded_inceptionv3_model.evaluate(X_test, y_test)\n",
    "print(f\"Test Loss: {inceptionv3_test_loss}, Test Accuracy: {inceptionv3_test_accuracy}\")"
   ]
  },
  {
   "cell_type": "code",
   "execution_count": 16,
   "metadata": {
    "colab": {
     "base_uri": "https://localhost:8080/"
    },
    "executionInfo": {
     "elapsed": 14696,
     "status": "ok",
     "timestamp": 1711114440463,
     "user": {
      "displayName": "Lisa",
      "userId": "18166468942816240099"
     },
     "user_tz": -480
    },
    "id": "5wC1vyGUyzCA",
    "outputId": "6482e7a0-1eb5-48ee-a785-8aa0a107e281"
   },
   "outputs": [
    {
     "name": "stdout",
     "output_type": "stream",
     "text": [
      "2/2 [==============================] - 1s 440ms/step - loss: 9.8757 - accuracy: 0.4130\n",
      "2/2 [==============================] - 3s 470ms/step\n"
     ]
    }
   ],
   "source": [
    "inceptionv3_predicted_labels, inceptionv3_true_labels_list = make_predictions_and_evaluate(loaded_inceptionv3_model, X_test, y_test)"
   ]
  },
  {
   "cell_type": "code",
   "execution_count": 17,
   "metadata": {
    "colab": {
     "base_uri": "https://localhost:8080/"
    },
    "executionInfo": {
     "elapsed": 44,
     "status": "ok",
     "timestamp": 1711114440464,
     "user": {
      "displayName": "Lisa",
      "userId": "18166468942816240099"
     },
     "user_tz": -480
    },
    "id": "4GoncbTF7XwO",
    "outputId": "514a7a1b-9688-4dc7-d6e4-fffe0fd3c42a"
   },
   "outputs": [
    {
     "name": "stdout",
     "output_type": "stream",
     "text": [
      "Accuracy: 0.4130\n",
      "Precision: 0.1491\n",
      "Recall: 0.1736\n",
      "F1 Score: 0.1604\n"
     ]
    }
   ],
   "source": [
    "calculate_classification_metrics(inceptionv3_true_labels_list, inceptionv3_predicted_labels)"
   ]
  },
  {
   "cell_type": "code",
   "execution_count": 18,
   "metadata": {
    "colab": {
     "base_uri": "https://localhost:8080/",
     "height": 564
    },
    "executionInfo": {
     "elapsed": 36,
     "status": "ok",
     "timestamp": 1711114440465,
     "user": {
      "displayName": "Lisa",
      "userId": "18166468942816240099"
     },
     "user_tz": -480
    },
    "id": "2hh3milIysU8",
    "outputId": "a80b3bb3-42c4-4e47-edcf-c19141a5beaa"
   },
   "outputs": [
    {
     "data": {
      "image/png": "[encoded data removed]",
      "text/plain": [
       "<Figure size 576x432 with 1 Axes>"
      ]
     },
     "metadata": {
      "needs_background": "light"
     },
     "output_type": "display_data"
    }
   ],
   "source": [
    "display_confusion_matrix(inceptionv3_true_labels_list, inceptionv3_predicted_labels)"
   ]
  },
  {
   "cell_type": "code",
   "execution_count": null,
   "metadata": {
    "id": "vaZxzNQyS9F9"
   },
   "outputs": [],
   "source": []
  }
 ],
 "metadata": {
  "colab": {
   "provenance": [],
   "toc_visible": true
  },
  "kernelspec": {
   "display_name": "Python 3 (ipykernel)",
   "language": "python",
   "name": "python3"
  },
  "language_info": {
   "codemirror_mode": {
    "name": "ipython",
    "version": 3
   },
   "file_extension": ".py",
   "mimetype": "text/x-python",
   "name": "python",
   "nbconvert_exporter": "python",
   "pygments_lexer": "ipython3",
   "version": "3.7.16"
  }
 },
 "nbformat": 4,
 "nbformat_minor": 4
}
