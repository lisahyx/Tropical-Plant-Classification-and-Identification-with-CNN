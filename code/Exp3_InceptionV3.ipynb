{
 "cells": [
  {
   "cell_type": "markdown",
   "metadata": {
    "id": "yytgmZgRx2xo"
   },
   "source": [
    "Lisa Ho Yen Xin 20297507"
   ]
  },
  {
   "cell_type": "markdown",
   "metadata": {
    "id": "YPPZSQIXk8bC",
    "tags": []
   },
   "source": [
    "# [1] Import Functions"
   ]
  },
  {
   "cell_type": "markdown",
   "metadata": {
    "id": "p19IHFZbxLFK"
   },
   "source": [
    "## [1.1] Google Colab"
   ]
  },
  {
   "cell_type": "code",
   "execution_count": null,
   "metadata": {
    "colab": {
     "base_uri": "https://localhost:8080/"
    },
    "executionInfo": {
     "elapsed": 21446,
     "status": "ok",
     "timestamp": 1711090698910,
     "user": {
      "displayName": "Lisa",
      "userId": "18166468942816240099"
     },
     "user_tz": -480
    },
    "id": "LmWseUlivtgU",
    "outputId": "9160ffcc-fb6f-4bee-ee45-97c3df19b38f"
   },
   "outputs": [
    {
     "name": "stdout",
     "output_type": "stream",
     "text": [
      "Mounted at /content/drive\n"
     ]
    }
   ],
   "source": [
    "from google.colab import drive\n",
    "drive.mount('/content/drive')"
   ]
  },
  {
   "cell_type": "code",
   "execution_count": null,
   "metadata": {
    "id": "Uvxee7OUvu9m"
   },
   "outputs": [],
   "source": [
    "%run /content/drive/MyDrive/FYP/ImportFunctions.ipynb"
   ]
  },
  {
   "cell_type": "markdown",
   "metadata": {
    "id": "nDKSAfNaxN-x"
   },
   "source": [
    "## [1.2] Jupyter"
   ]
  },
  {
   "cell_type": "code",
   "execution_count": 20,
   "metadata": {
    "id": "bXMulHuGxQ_g"
   },
   "outputs": [],
   "source": [
    "%run ImportFunctions.ipynb"
   ]
  },
  {
   "cell_type": "markdown",
   "metadata": {
    "id": "cDPrUqTFlHro"
   },
   "source": [
    "# [2] Import Libraries"
   ]
  },
  {
   "cell_type": "code",
   "execution_count": 2,
   "metadata": {
    "id": "FFuqb5DCdLDX"
   },
   "outputs": [],
   "source": [
    "import cv2\n",
    "import numpy as np\n",
    "import seaborn as sns\n",
    "from keras.utils import plot_model\n",
    "from sklearn.metrics import confusion_matrix\n",
    "from sklearn.model_selection import train_test_split\n",
    "from tabulate import tabulate\n",
    "import tensorflow as tf"
   ]
  },
  {
   "cell_type": "markdown",
   "metadata": {
    "id": "lDCsfN_ElQlu"
   },
   "source": [
    "# [3] Load Dataset"
   ]
  },
  {
   "cell_type": "markdown",
   "metadata": {
    "id": "eXOV22rn0FnX"
   },
   "source": [
    "## [3.1] Google Colab"
   ]
  },
  {
   "cell_type": "code",
   "execution_count": null,
   "metadata": {
    "id": "GIWZP5cPvsnx"
   },
   "outputs": [],
   "source": [
    "# Load images and labels\n",
    "augmented_images = np.load('/content/drive/My Drive/FYP/dataset/augmented_images.npy')\n",
    "augmented_labels = np.load('/content/drive/My Drive/FYP/dataset/augmented_labels.npy')"
   ]
  },
  {
   "cell_type": "markdown",
   "metadata": {
    "id": "9xKfpalt0FnY"
   },
   "source": [
    "## [3.2] Jupyter"
   ]
  },
  {
   "cell_type": "code",
   "execution_count": 3,
   "metadata": {
    "id": "RFNc2NIP0FnY"
   },
   "outputs": [],
   "source": [
    "# Load images and labels\n",
    "augmented_images = np.load('dataset/augmented_images.npy')\n",
    "augmented_labels = np.load('dataset/augmented_labels.npy')"
   ]
  },
  {
   "cell_type": "markdown",
   "metadata": {
    "id": "F4bu2sWy0FnZ"
   },
   "source": [
    "# [4] Prepare Dataset"
   ]
  },
  {
   "cell_type": "code",
   "execution_count": 4,
   "metadata": {
    "id": "HC1WxsTM0LGY"
   },
   "outputs": [],
   "source": [
    "augmented_images = resize_images(augmented_images, (299,299))"
   ]
  },
  {
   "cell_type": "code",
   "execution_count": 5,
   "metadata": {
    "colab": {
     "base_uri": "https://localhost:8080/"
    },
    "executionInfo": {
     "elapsed": 13,
     "status": "ok",
     "timestamp": 1711090773126,
     "user": {
      "displayName": "Lisa",
      "userId": "18166468942816240099"
     },
     "user_tz": -480
    },
    "id": "5Q3fOB7adUs8",
    "outputId": "149c65e6-5524-48dd-b26a-af8c52982af3"
   },
   "outputs": [
    {
     "name": "stdout",
     "output_type": "stream",
     "text": [
      "+--------------+---------------------+\n",
      "| Array Name   | Shape               |\n",
      "+==============+=====================+\n",
      "| Images       | (1211, 299, 299, 3) |\n",
      "+--------------+---------------------+\n",
      "| Labels       | (1211,)             |\n",
      "+--------------+---------------------+\n"
     ]
    }
   ],
   "source": [
    "# Display array shapes\n",
    "display_array_shapes(augmented_images, augmented_labels)"
   ]
  },
  {
   "cell_type": "code",
   "execution_count": 6,
   "metadata": {
    "colab": {
     "base_uri": "https://localhost:8080/"
    },
    "executionInfo": {
     "elapsed": 6,
     "status": "ok",
     "timestamp": 1711090773126,
     "user": {
      "displayName": "Lisa",
      "userId": "18166468942816240099"
     },
     "user_tz": -480
    },
    "id": "zbmIrtP6_SG7",
    "outputId": "13835cb8-da42-4c52-d1ab-4bfb1ac9b2df"
   },
   "outputs": [
    {
     "name": "stdout",
     "output_type": "stream",
     "text": [
      "Number of unique labels: 9\n"
     ]
    }
   ],
   "source": [
    "# Get the number of unique labels\n",
    "num_classes = len(np.unique(augmented_labels))\n",
    "\n",
    "print(\"Number of unique labels:\", num_classes)"
   ]
  },
  {
   "cell_type": "code",
   "execution_count": 7,
   "metadata": {
    "id": "OzTVaF182bu_"
   },
   "outputs": [],
   "source": [
    "# Binarize labels\n",
    "augmented_labels_binarized = binarize_labels(augmented_labels)"
   ]
  },
  {
   "cell_type": "markdown",
   "metadata": {
    "id": "Swwq3CkUmQZ3"
   },
   "source": [
    "# [5] Train Model"
   ]
  },
  {
   "cell_type": "code",
   "execution_count": 8,
   "metadata": {
    "colab": {
     "base_uri": "https://localhost:8080/"
    },
    "executionInfo": {
     "elapsed": 1023,
     "status": "ok",
     "timestamp": 1711090774145,
     "user": {
      "displayName": "Lisa",
      "userId": "18166468942816240099"
     },
     "user_tz": -480
    },
    "id": "1d10p9SAlPIL",
    "outputId": "c2173b3c-bc62-4c58-8c5a-fa8cf2d99cbf"
   },
   "outputs": [
    {
     "name": "stdout",
     "output_type": "stream",
     "text": [
      "Train shape: (968, 299, 299, 3) (968, 9)\n",
      "Validation shape: (121, 299, 299, 3) (121, 9)\n",
      "Test shape: (122, 299, 299, 3) (122, 9)\n"
     ]
    }
   ],
   "source": [
    "# Split the data into training and validation sets\n",
    "X_train, X_temp, y_train, y_temp = train_test_split(augmented_images, augmented_labels_binarized, test_size=0.2, random_state=42)\n",
    "\n",
    "# Further split the temporary data into validation and testing sets\n",
    "X_val, X_test, y_val, y_test = train_test_split(X_temp, y_temp, test_size=0.5, random_state=42)\n",
    "\n",
    "print(\"Train shape:\", X_train.shape, y_train.shape)\n",
    "print(\"Validation shape:\", X_val.shape, y_val.shape)\n",
    "print(\"Test shape:\", X_test.shape, y_test.shape)"
   ]
  },
  {
   "cell_type": "code",
   "execution_count": 9,
   "metadata": {
    "colab": {
     "base_uri": "https://localhost:8080/"
    },
    "executionInfo": {
     "elapsed": 4745,
     "status": "ok",
     "timestamp": 1711090778881,
     "user": {
      "displayName": "Lisa",
      "userId": "18166468942816240099"
     },
     "user_tz": -480
    },
    "id": "k44bH83VVJlP",
    "outputId": "012e2625-3647-4ade-e85e-30f5f2568b6c"
   },
   "outputs": [
    {
     "name": "stderr",
     "output_type": "stream",
     "text": [
      "2024-04-02 16:48:00.636082: E tensorflow/compiler/xla/stream_executor/cuda/cuda_driver.cc:267] failed call to cuInit: CUDA_ERROR_NO_DEVICE: no CUDA-capable device is detected\n",
      "2024-04-02 16:48:00.636199: I tensorflow/compiler/xla/stream_executor/cuda/cuda_diagnostics.cc:156] kernel driver does not appear to be running on this host (LSPMHPCHN01): /proc/driver/nvidia/version does not exist\n",
      "2024-04-02 16:48:00.636959: I tensorflow/core/platform/cpu_feature_guard.cc:193] This TensorFlow binary is optimized with oneAPI Deep Neural Network Library (oneDNN) to use the following CPU instructions in performance-critical operations:  AVX2 FMA\n",
      "To enable them in other operations, rebuild TensorFlow with the appropriate compiler flags.\n"
     ]
    }
   ],
   "source": [
    "# Build and compile InceptionV3 model\n",
    "inceptionv3_model = build_and_compile_inceptionv3_model(num_classes)"
   ]
  },
  {
   "cell_type": "code",
   "execution_count": 10,
   "metadata": {
    "colab": {
     "base_uri": "https://localhost:8080/"
    },
    "executionInfo": {
     "elapsed": 2473554,
     "status": "ok",
     "timestamp": 1711093252422,
     "user": {
      "displayName": "Lisa",
      "userId": "18166468942816240099"
     },
     "user_tz": -480
    },
    "id": "TZtkQFpIVMPy",
    "outputId": "647d9678-594f-4f9e-8638-0015dd73ec05"
   },
   "outputs": [
    {
     "name": "stdout",
     "output_type": "stream",
     "text": [
      "Epoch 1/10\n",
      "24/24 [==============================] - 30s 1s/step - loss: 11.8752 - accuracy: 0.4669 - val_loss: 9.1404 - val_accuracy: 0.5124\n",
      "Epoch 2/10\n",
      "24/24 [==============================] - 23s 943ms/step - loss: 1.6767 - accuracy: 0.8523 - val_loss: 3.5351 - val_accuracy: 0.7273\n",
      "Epoch 3/10\n",
      "24/24 [==============================] - 22s 915ms/step - loss: 0.3806 - accuracy: 0.9473 - val_loss: 3.1161 - val_accuracy: 0.7686\n",
      "Epoch 4/10\n",
      "24/24 [==============================] - 23s 959ms/step - loss: 1.4032 - accuracy: 0.9019 - val_loss: 5.6179 - val_accuracy: 0.7355\n",
      "Epoch 5/10\n",
      "24/24 [==============================] - 23s 965ms/step - loss: 0.2426 - accuracy: 0.9752 - val_loss: 6.1025 - val_accuracy: 0.7521\n",
      "Epoch 6/10\n",
      "24/24 [==============================] - 26s 1s/step - loss: 0.0605 - accuracy: 0.9876 - val_loss: 5.7675 - val_accuracy: 0.7190\n",
      "Epoch 7/10\n",
      "24/24 [==============================] - 36s 2s/step - loss: 0.0653 - accuracy: 0.9917 - val_loss: 5.3957 - val_accuracy: 0.7438\n",
      "Epoch 8/10\n",
      "24/24 [==============================] - 35s 1s/step - loss: 0.0172 - accuracy: 0.9969 - val_loss: 5.7087 - val_accuracy: 0.7438\n",
      "Epoch 9/10\n",
      "24/24 [==============================] - 30s 1s/step - loss: 0.0041 - accuracy: 0.9969 - val_loss: 4.9010 - val_accuracy: 0.7521\n",
      "Epoch 10/10\n",
      "24/24 [==============================] - 28s 1s/step - loss: 0.0055 - accuracy: 0.9979 - val_loss: 5.0214 - val_accuracy: 0.7521\n",
      "4/4 [==============================] - 3s 761ms/step - loss: 5.0214 - accuracy: 0.7521\n"
     ]
    }
   ],
   "source": [
    "# Train the model\n",
    "inceptionv3_history = inceptionv3_model.fit(X_train, y_train, batch_size=42, validation_data=(X_val, y_val), epochs=10)\n",
    "\n",
    "# Evaluate the model on the validation data\n",
    "inceptionv3_loss, inceptionv3_accuracy = inceptionv3_model.evaluate(X_val, y_val)"
   ]
  },
  {
   "cell_type": "code",
   "execution_count": 11,
   "metadata": {
    "colab": {
     "base_uri": "https://localhost:8080/"
    },
    "executionInfo": {
     "elapsed": 33,
     "status": "ok",
     "timestamp": 1711093252425,
     "user": {
      "displayName": "Lisa",
      "userId": "18166468942816240099"
     },
     "user_tz": -480
    },
    "id": "7hSeGG7fvsnz",
    "outputId": "fdfb55d3-d6bf-43ed-e024-9ec61062afde"
   },
   "outputs": [
    {
     "name": "stdout",
     "output_type": "stream",
     "text": [
      "Average Validation Loss: 5.43062903881073, Average Validation Accuracy: 0.7206611633300781\n"
     ]
    }
   ],
   "source": [
    "# Calculate average loss and accuracy\n",
    "average_loss = sum(inceptionv3_history.history['val_loss']) / len(inceptionv3_history.history['val_loss'])\n",
    "average_accuracy = sum(inceptionv3_history.history['val_accuracy']) / len(inceptionv3_history.history['val_accuracy'])\n",
    "\n",
    "print(f\"Average Validation Loss: {average_loss}, Average Validation Accuracy: {average_accuracy}\")"
   ]
  },
  {
   "cell_type": "code",
   "execution_count": 12,
   "metadata": {
    "colab": {
     "base_uri": "https://localhost:8080/",
     "height": 487
    },
    "executionInfo": {
     "elapsed": 933,
     "status": "ok",
     "timestamp": 1711093253346,
     "user": {
      "displayName": "Lisa",
      "userId": "18166468942816240099"
     },
     "user_tz": -480
    },
    "id": "U1CyuVFpymEV",
    "outputId": "100c4f5d-0ca5-4505-e603-4281629de470"
   },
   "outputs": [
    {
     "data": {
      "image/png": "[encoded data removed]",
      "text/plain": [
       "<Figure size 864x432 with 2 Axes>"
      ]
     },
     "metadata": {
      "needs_background": "light"
     },
     "output_type": "display_data"
    }
   ],
   "source": [
    "plot_training_history(inceptionv3_history)"
   ]
  },
  {
   "cell_type": "markdown",
   "metadata": {
    "id": "8Z2qs3U70Fnc"
   },
   "source": [
    "# [6] Save Model"
   ]
  },
  {
   "cell_type": "markdown",
   "metadata": {
    "id": "ZWBdIcPq0Fnc"
   },
   "source": [
    "## [6.1] Google Colab"
   ]
  },
  {
   "cell_type": "code",
   "execution_count": null,
   "metadata": {
    "id": "yU84wDtcvsn0"
   },
   "outputs": [],
   "source": [
    "# Save model\n",
    "inceptionv3_model.save('/content/drive/MyDrive/FYP/models/InceptionV3_augment')"
   ]
  },
  {
   "cell_type": "markdown",
   "metadata": {
    "id": "WM4ZTqnT0Fnd"
   },
   "source": [
    "## [6.2] Jupyter"
   ]
  },
  {
   "cell_type": "code",
   "execution_count": 13,
   "metadata": {
    "id": "CW1HdUBo0Fnd",
    "outputId": "d31719bf-2894-44a2-b42e-5015fbde33c5",
    "tags": []
   },
   "outputs": [
    {
     "name": "stderr",
     "output_type": "stream",
     "text": [
      "WARNING:absl:Found untraced functions such as _jit_compiled_convolution_op, _jit_compiled_convolution_op, _jit_compiled_convolution_op, _jit_compiled_convolution_op, _jit_compiled_convolution_op while saving (showing 5 of 95). These functions will not be directly callable after loading.\n"
     ]
    },
    {
     "name": "stdout",
     "output_type": "stream",
     "text": [
      "INFO:tensorflow:Assets written to: models/InceptionV3_augment/assets\n"
     ]
    },
    {
     "name": "stderr",
     "output_type": "stream",
     "text": [
      "INFO:tensorflow:Assets written to: models/InceptionV3_augment/assets\n"
     ]
    }
   ],
   "source": [
    "# Save model\n",
    "inceptionv3_model.save('models/InceptionV3_augment')"
   ]
  },
  {
   "cell_type": "markdown",
   "metadata": {
    "id": "nX79wMZComiQ"
   },
   "source": [
    "# [6] Load Model"
   ]
  },
  {
   "cell_type": "markdown",
   "metadata": {
    "id": "h8wn7VsS0Fnd"
   },
   "source": [
    "## [6.1] Google Colab"
   ]
  },
  {
   "cell_type": "code",
   "execution_count": null,
   "metadata": {
    "id": "0mIr8wk90Fnd"
   },
   "outputs": [],
   "source": [
    "# Load the saved model\n",
    "loaded_inceptionv3_model = tf.keras.models.load_model('/content/drive/MyDrive/FYP/models/InceptionV3_augment')"
   ]
  },
  {
   "cell_type": "markdown",
   "metadata": {
    "id": "k0ZEJqyl0Fne"
   },
   "source": [
    "## [6.2] Jupyter"
   ]
  },
  {
   "cell_type": "code",
   "execution_count": 14,
   "metadata": {
    "id": "A2dWKdYRvsn0"
   },
   "outputs": [],
   "source": [
    "# Load the saved model\n",
    "loaded_inceptionv3_model = tf.keras.models.load_model('models/InceptionV3_augment')"
   ]
  },
  {
   "cell_type": "markdown",
   "metadata": {
    "id": "Ql-nfN-z788L",
    "tags": []
   },
   "source": [
    "# [7] Test and Analyse"
   ]
  },
  {
   "cell_type": "code",
   "execution_count": 15,
   "metadata": {
    "colab": {
     "base_uri": "https://localhost:8080/"
    },
    "executionInfo": {
     "elapsed": 43630,
     "status": "ok",
     "timestamp": 1711093345095,
     "user": {
      "displayName": "Lisa",
      "userId": "18166468942816240099"
     },
     "user_tz": -480
    },
    "id": "Aq3Ym1ddoohB",
    "outputId": "c6b399d1-1810-41de-cb89-404ded1b162f"
   },
   "outputs": [
    {
     "name": "stdout",
     "output_type": "stream",
     "text": [
      "4/4 [==============================] - 6s 812ms/step - loss: 4.5205 - accuracy: 0.7459\n",
      "Test Loss: 4.520513534545898, Test Accuracy: 0.7459016442298889\n"
     ]
    }
   ],
   "source": [
    "# Evaluate the model on the test data\n",
    "inceptionv3_test_loss, inceptionv3_test_accuracy = loaded_inceptionv3_model.evaluate(X_test, y_test)\n",
    "print(f\"Test Loss: {inceptionv3_test_loss}, Test Accuracy: {inceptionv3_test_accuracy}\")"
   ]
  },
  {
   "cell_type": "code",
   "execution_count": 16,
   "metadata": {
    "colab": {
     "base_uri": "https://localhost:8080/"
    },
    "executionInfo": {
     "elapsed": 27246,
     "status": "ok",
     "timestamp": 1711093372340,
     "user": {
      "displayName": "Lisa",
      "userId": "18166468942816240099"
     },
     "user_tz": -480
    },
    "id": "5wC1vyGUyzCA",
    "outputId": "5a68536c-f807-497b-9f79-66cac490325c"
   },
   "outputs": [
    {
     "name": "stdout",
     "output_type": "stream",
     "text": [
      "4/4 [==============================] - 3s 841ms/step - loss: 4.5205 - accuracy: 0.7459\n",
      "4/4 [==============================] - 5s 827ms/step\n"
     ]
    }
   ],
   "source": [
    "inceptionv3_predicted_labels, inceptionv3_true_labels_list = make_predictions_and_evaluate(loaded_inceptionv3_model, X_test, y_test)"
   ]
  },
  {
   "cell_type": "code",
   "execution_count": 21,
   "metadata": {
    "colab": {
     "base_uri": "https://localhost:8080/"
    },
    "executionInfo": {
     "elapsed": 19,
     "status": "ok",
     "timestamp": 1711093372340,
     "user": {
      "displayName": "Lisa",
      "userId": "18166468942816240099"
     },
     "user_tz": -480
    },
    "id": "4GoncbTF7XwO",
    "outputId": "a142f174-6ea8-471d-8551-48d58dcb7d46"
   },
   "outputs": [
    {
     "name": "stdout",
     "output_type": "stream",
     "text": [
      "Accuracy: 0.7459\n",
      "Precision: 0.7301\n",
      "Recall: 0.6662\n",
      "F1 Score: 0.6967\n"
     ]
    }
   ],
   "source": [
    "calculate_classification_metrics(inceptionv3_true_labels_list, inceptionv3_predicted_labels)"
   ]
  },
  {
   "cell_type": "code",
   "execution_count": 18,
   "metadata": {
    "colab": {
     "base_uri": "https://localhost:8080/",
     "height": 564
    },
    "executionInfo": {
     "elapsed": 12,
     "status": "ok",
     "timestamp": 1711093372340,
     "user": {
      "displayName": "Lisa",
      "userId": "18166468942816240099"
     },
     "user_tz": -480
    },
    "id": "2hh3milIysU8",
    "outputId": "3024eafa-fa70-4b3e-f8ca-1e77a817b244"
   },
   "outputs": [
    {
     "data": {
      "image/png": "[encoded data removed]",
      "text/plain": [
       "<Figure size 576x432 with 1 Axes>"
      ]
     },
     "metadata": {
      "needs_background": "light"
     },
     "output_type": "display_data"
    }
   ],
   "source": [
    "display_confusion_matrix(inceptionv3_true_labels_list, inceptionv3_predicted_labels)"
   ]
  },
  {
   "cell_type": "code",
   "execution_count": null,
   "metadata": {},
   "outputs": [],
   "source": []
  }
 ],
 "metadata": {
  "colab": {
   "provenance": []
  },
  "kernelspec": {
   "display_name": "Python 3 (ipykernel)",
   "language": "python",
   "name": "python3"
  },
  "language_info": {
   "codemirror_mode": {
    "name": "ipython",
    "version": 3
   },
   "file_extension": ".py",
   "mimetype": "text/x-python",
   "name": "python",
   "nbconvert_exporter": "python",
   "pygments_lexer": "ipython3",
   "version": "3.7.16"
  }
 },
 "nbformat": 4,
 "nbformat_minor": 4
}
