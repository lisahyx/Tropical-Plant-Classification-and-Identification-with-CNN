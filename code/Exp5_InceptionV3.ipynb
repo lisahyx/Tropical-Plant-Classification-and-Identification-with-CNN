{
 "cells": [
  {
   "cell_type": "markdown",
   "metadata": {
    "id": "yytgmZgRx2xo"
   },
   "source": [
    "Lisa Ho Yen Xin 20297507"
   ]
  },
  {
   "cell_type": "markdown",
   "metadata": {
    "id": "YPPZSQIXk8bC",
    "tags": []
   },
   "source": [
    "# [1] Import Functions"
   ]
  },
  {
   "cell_type": "markdown",
   "metadata": {
    "id": "p19IHFZbxLFK"
   },
   "source": [
    "## [1.1] Google Colab"
   ]
  },
  {
   "cell_type": "code",
   "execution_count": 1,
   "metadata": {
    "colab": {
     "base_uri": "https://localhost:8080/"
    },
    "executionInfo": {
     "elapsed": 23036,
     "status": "ok",
     "timestamp": 1711095537325,
     "user": {
      "displayName": "Lisa",
      "userId": "18166468942816240099"
     },
     "user_tz": -480
    },
    "id": "LmWseUlivtgU",
    "outputId": "432f6afb-ab3f-4dc6-b563-a7357e7fe083"
   },
   "outputs": [
    {
     "name": "stdout",
     "output_type": "stream",
     "text": [
      "Mounted at /content/drive\n"
     ]
    }
   ],
   "source": [
    "from google.colab import drive\n",
    "drive.mount('/content/drive')"
   ]
  },
  {
   "cell_type": "code",
   "execution_count": 2,
   "metadata": {
    "executionInfo": {
     "elapsed": 8117,
     "status": "ok",
     "timestamp": 1711095545441,
     "user": {
      "displayName": "Lisa",
      "userId": "18166468942816240099"
     },
     "user_tz": -480
    },
    "id": "Uvxee7OUvu9m"
   },
   "outputs": [],
   "source": [
    "%run /content/drive/MyDrive/FYP/ImportFunctions.ipynb"
   ]
  },
  {
   "cell_type": "markdown",
   "metadata": {
    "id": "nDKSAfNaxN-x"
   },
   "source": [
    "## [1.2] Jupyter"
   ]
  },
  {
   "cell_type": "code",
   "execution_count": 1,
   "metadata": {
    "id": "bXMulHuGxQ_g"
   },
   "outputs": [
    {
     "name": "stderr",
     "output_type": "stream",
     "text": [
      "2024-04-02 18:01:41.808090: I tensorflow/core/platform/cpu_feature_guard.cc:193] This TensorFlow binary is optimized with oneAPI Deep Neural Network Library (oneDNN) to use the following CPU instructions in performance-critical operations:  AVX2 FMA\n",
      "To enable them in other operations, rebuild TensorFlow with the appropriate compiler flags.\n",
      "2024-04-02 18:01:43.740690: W tensorflow/compiler/xla/stream_executor/platform/default/dso_loader.cc:64] Could not load dynamic library 'libcudart.so.11.0'; dlerror: libcudart.so.11.0: cannot open shared object file: No such file or directory\n",
      "2024-04-02 18:01:43.741011: I tensorflow/compiler/xla/stream_executor/cuda/cudart_stub.cc:29] Ignore above cudart dlerror if you do not have a GPU set up on your machine.\n",
      "2024-04-02 18:01:48.341187: W tensorflow/compiler/xla/stream_executor/platform/default/dso_loader.cc:64] Could not load dynamic library 'libnvinfer.so.7'; dlerror: libnvinfer.so.7: cannot open shared object file: No such file or directory\n",
      "2024-04-02 18:01:48.341365: W tensorflow/compiler/xla/stream_executor/platform/default/dso_loader.cc:64] Could not load dynamic library 'libnvinfer_plugin.so.7'; dlerror: libnvinfer_plugin.so.7: cannot open shared object file: No such file or directory\n",
      "2024-04-02 18:01:48.341374: W tensorflow/compiler/tf2tensorrt/utils/py_utils.cc:38] TF-TRT Warning: Cannot dlopen some TensorRT libraries. If you would like to use Nvidia GPU with TensorRT, please make sure the missing libraries mentioned above are installed properly.\n"
     ]
    }
   ],
   "source": [
    "%run ImportFunctions.ipynb"
   ]
  },
  {
   "cell_type": "markdown",
   "metadata": {
    "id": "cDPrUqTFlHro"
   },
   "source": [
    "# [2] Import Libraries"
   ]
  },
  {
   "cell_type": "code",
   "execution_count": 2,
   "metadata": {
    "executionInfo": {
     "elapsed": 659,
     "status": "ok",
     "timestamp": 1711095546097,
     "user": {
      "displayName": "Lisa",
      "userId": "18166468942816240099"
     },
     "user_tz": -480
    },
    "id": "FFuqb5DCdLDX"
   },
   "outputs": [],
   "source": [
    "import cv2\n",
    "import numpy as np\n",
    "import seaborn as sns\n",
    "from keras.utils import plot_model\n",
    "from sklearn.metrics import confusion_matrix\n",
    "from sklearn.model_selection import train_test_split\n",
    "from tabulate import tabulate\n",
    "import tensorflow as tf"
   ]
  },
  {
   "cell_type": "markdown",
   "metadata": {
    "id": "lDCsfN_ElQlu"
   },
   "source": [
    "# [3] Load Dataset"
   ]
  },
  {
   "cell_type": "markdown",
   "metadata": {
    "id": "eXOV22rn0FnX"
   },
   "source": [
    "## [3.1] Google Colab"
   ]
  },
  {
   "cell_type": "code",
   "execution_count": 4,
   "metadata": {
    "executionInfo": {
     "elapsed": 42754,
     "status": "ok",
     "timestamp": 1711095588847,
     "user": {
      "displayName": "Lisa",
      "userId": "18166468942816240099"
     },
     "user_tz": -480
    },
    "id": "GIWZP5cPvsnx"
   },
   "outputs": [],
   "source": [
    "# Load images and labels\n",
    "images = np.load('/content/drive/My Drive/FYP/dataset/random_images.npy')\n",
    "labels = np.load('/content/drive/My Drive/FYP/dataset/random_labels.npy')"
   ]
  },
  {
   "cell_type": "markdown",
   "metadata": {
    "id": "9xKfpalt0FnY"
   },
   "source": [
    "## [3.2] Jupyter"
   ]
  },
  {
   "cell_type": "code",
   "execution_count": 3,
   "metadata": {
    "id": "RFNc2NIP0FnY"
   },
   "outputs": [],
   "source": [
    "# Load images and labels\n",
    "images = np.load('dataset/random_images.npy')\n",
    "labels = np.load('dataset/random_labels.npy')"
   ]
  },
  {
   "cell_type": "markdown",
   "metadata": {
    "id": "F4bu2sWy0FnZ"
   },
   "source": [
    "# [4] Prepare Dataset"
   ]
  },
  {
   "cell_type": "code",
   "execution_count": 4,
   "metadata": {
    "executionInfo": {
     "elapsed": 27514,
     "status": "ok",
     "timestamp": 1711095616351,
     "user": {
      "displayName": "Lisa",
      "userId": "18166468942816240099"
     },
     "user_tz": -480
    },
    "id": "HC1WxsTM0LGY"
   },
   "outputs": [],
   "source": [
    "images = resize_images(images, (299,299))"
   ]
  },
  {
   "cell_type": "code",
   "execution_count": 5,
   "metadata": {
    "colab": {
     "base_uri": "https://localhost:8080/"
    },
    "executionInfo": {
     "elapsed": 32,
     "status": "ok",
     "timestamp": 1711095616352,
     "user": {
      "displayName": "Lisa",
      "userId": "18166468942816240099"
     },
     "user_tz": -480
    },
    "id": "5Q3fOB7adUs8",
    "outputId": "8ba8566d-7eea-4ec3-f197-f6ca0c60e5a8"
   },
   "outputs": [
    {
     "name": "stdout",
     "output_type": "stream",
     "text": [
      "+--------------+--------------------+\n",
      "| Array Name   | Shape              |\n",
      "+==============+====================+\n",
      "| Images       | (957, 299, 299, 3) |\n",
      "+--------------+--------------------+\n",
      "| Labels       | (957,)             |\n",
      "+--------------+--------------------+\n"
     ]
    }
   ],
   "source": [
    "# Display array shapes\n",
    "display_array_shapes(images, labels)"
   ]
  },
  {
   "cell_type": "code",
   "execution_count": 6,
   "metadata": {
    "colab": {
     "base_uri": "https://localhost:8080/"
    },
    "executionInfo": {
     "elapsed": 19,
     "status": "ok",
     "timestamp": 1711095616353,
     "user": {
      "displayName": "Lisa",
      "userId": "18166468942816240099"
     },
     "user_tz": -480
    },
    "id": "zbmIrtP6_SG7",
    "outputId": "98f90ccc-d7e6-4514-db38-0c7cd2636550"
   },
   "outputs": [
    {
     "name": "stdout",
     "output_type": "stream",
     "text": [
      "Number of unique labels: 9\n"
     ]
    }
   ],
   "source": [
    "# Get the number of unique labels\n",
    "num_classes = len(np.unique(labels))\n",
    "\n",
    "print(\"Number of unique labels:\", num_classes)"
   ]
  },
  {
   "cell_type": "code",
   "execution_count": 7,
   "metadata": {
    "executionInfo": {
     "elapsed": 11,
     "status": "ok",
     "timestamp": 1711095616353,
     "user": {
      "displayName": "Lisa",
      "userId": "18166468942816240099"
     },
     "user_tz": -480
    },
    "id": "OzTVaF182bu_"
   },
   "outputs": [],
   "source": [
    "# Binarize labels\n",
    "labels_binarized = binarize_labels(labels)"
   ]
  },
  {
   "cell_type": "markdown",
   "metadata": {
    "id": "Swwq3CkUmQZ3"
   },
   "source": [
    "# [5] Train Model"
   ]
  },
  {
   "cell_type": "code",
   "execution_count": 8,
   "metadata": {
    "colab": {
     "base_uri": "https://localhost:8080/"
    },
    "executionInfo": {
     "elapsed": 1224,
     "status": "ok",
     "timestamp": 1711095617567,
     "user": {
      "displayName": "Lisa",
      "userId": "18166468942816240099"
     },
     "user_tz": -480
    },
    "id": "1d10p9SAlPIL",
    "outputId": "349e95bc-1b8e-4096-a232-57a6f332d20a"
   },
   "outputs": [
    {
     "name": "stdout",
     "output_type": "stream",
     "text": [
      "Train shape: (765, 299, 299, 3) (765, 9)\n",
      "Validation shape: (96, 299, 299, 3) (96, 9)\n",
      "Test shape: (96, 299, 299, 3) (96, 9)\n"
     ]
    }
   ],
   "source": [
    "# Split the data into training and validation sets\n",
    "X_train, X_temp, y_train, y_temp = train_test_split(images, labels_binarized, test_size=0.2, random_state=42)\n",
    "\n",
    "# Further split the temporary data into validation and testing sets\n",
    "X_val, X_test, y_val, y_test = train_test_split(X_temp, y_temp, test_size=0.5, random_state=42)\n",
    "\n",
    "print(\"Train shape:\", X_train.shape, y_train.shape)\n",
    "print(\"Validation shape:\", X_val.shape, y_val.shape)\n",
    "print(\"Test shape:\", X_test.shape, y_test.shape)"
   ]
  },
  {
   "cell_type": "code",
   "execution_count": 9,
   "metadata": {
    "colab": {
     "base_uri": "https://localhost:8080/"
    },
    "executionInfo": {
     "elapsed": 9235,
     "status": "ok",
     "timestamp": 1711095626793,
     "user": {
      "displayName": "Lisa",
      "userId": "18166468942816240099"
     },
     "user_tz": -480
    },
    "id": "k44bH83VVJlP",
    "outputId": "bb1fa000-99c9-4819-9f44-7d2e380a711c"
   },
   "outputs": [
    {
     "name": "stderr",
     "output_type": "stream",
     "text": [
      "2024-04-02 18:03:03.736105: E tensorflow/compiler/xla/stream_executor/cuda/cuda_driver.cc:267] failed call to cuInit: CUDA_ERROR_NO_DEVICE: no CUDA-capable device is detected\n",
      "2024-04-02 18:03:03.741564: I tensorflow/compiler/xla/stream_executor/cuda/cuda_diagnostics.cc:156] kernel driver does not appear to be running on this host (LSPMHPCHN01): /proc/driver/nvidia/version does not exist\n",
      "2024-04-02 18:03:03.754750: I tensorflow/core/platform/cpu_feature_guard.cc:193] This TensorFlow binary is optimized with oneAPI Deep Neural Network Library (oneDNN) to use the following CPU instructions in performance-critical operations:  AVX2 FMA\n",
      "To enable them in other operations, rebuild TensorFlow with the appropriate compiler flags.\n"
     ]
    }
   ],
   "source": [
    "# Build and compile InceptionV3 model\n",
    "inceptionv3_model = build_and_compile_inceptionv3_model(num_classes)"
   ]
  },
  {
   "cell_type": "code",
   "execution_count": 10,
   "metadata": {
    "colab": {
     "base_uri": "https://localhost:8080/"
    },
    "executionInfo": {
     "elapsed": 2336421,
     "status": "ok",
     "timestamp": 1711097963198,
     "user": {
      "displayName": "Lisa",
      "userId": "18166468942816240099"
     },
     "user_tz": -480
    },
    "id": "TZtkQFpIVMPy",
    "outputId": "cb3835cb-7fbd-4a10-e72b-88cb014167f6"
   },
   "outputs": [
    {
     "name": "stderr",
     "output_type": "stream",
     "text": [
      "2024-04-02 18:03:11.722534: W tensorflow/tsl/framework/cpu_allocator_impl.cc:82] Allocation of 820701180 exceeds 10% of free system memory.\n"
     ]
    },
    {
     "name": "stdout",
     "output_type": "stream",
     "text": [
      "Epoch 1/10\n"
     ]
    },
    {
     "name": "stderr",
     "output_type": "stream",
     "text": [
      "2024-04-02 18:03:20.968101: W tensorflow/tsl/framework/cpu_allocator_impl.cc:82] Allocation of 232339968 exceeds 10% of free system memory.\n"
     ]
    },
    {
     "name": "stdout",
     "output_type": "stream",
     "text": [
      " 1/19 [>.............................] - ETA: 2:31 - loss: 2.7561 - accuracy: 0.2143"
     ]
    },
    {
     "name": "stderr",
     "output_type": "stream",
     "text": [
      "2024-04-02 18:03:22.392806: W tensorflow/tsl/framework/cpu_allocator_impl.cc:82] Allocation of 232339968 exceeds 10% of free system memory.\n"
     ]
    },
    {
     "name": "stdout",
     "output_type": "stream",
     "text": [
      " 2/19 [==>...........................] - ETA: 16s - loss: 8.6643 - accuracy: 0.2500 "
     ]
    },
    {
     "name": "stderr",
     "output_type": "stream",
     "text": [
      "2024-04-02 18:03:23.297153: W tensorflow/tsl/framework/cpu_allocator_impl.cc:82] Allocation of 232339968 exceeds 10% of free system memory.\n"
     ]
    },
    {
     "name": "stdout",
     "output_type": "stream",
     "text": [
      " 3/19 [===>..........................] - ETA: 13s - loss: 9.5737 - accuracy: 0.2857"
     ]
    },
    {
     "name": "stderr",
     "output_type": "stream",
     "text": [
      "2024-04-02 18:03:24.024323: W tensorflow/tsl/framework/cpu_allocator_impl.cc:82] Allocation of 232339968 exceeds 10% of free system memory.\n"
     ]
    },
    {
     "name": "stdout",
     "output_type": "stream",
     "text": [
      "19/19 [==============================] - 27s 1s/step - loss: 11.9278 - accuracy: 0.4248 - val_loss: 8.4527 - val_accuracy: 0.5104\n",
      "Epoch 2/10\n",
      "19/19 [==============================] - 16s 869ms/step - loss: 1.6519 - accuracy: 0.8601 - val_loss: 6.4798 - val_accuracy: 0.6875\n",
      "Epoch 3/10\n",
      "19/19 [==============================] - 16s 869ms/step - loss: 0.5901 - accuracy: 0.9399 - val_loss: 5.6192 - val_accuracy: 0.7396\n",
      "Epoch 4/10\n",
      "19/19 [==============================] - 17s 890ms/step - loss: 0.2751 - accuracy: 0.9569 - val_loss: 4.6366 - val_accuracy: 0.7188\n",
      "Epoch 5/10\n",
      "19/19 [==============================] - 17s 884ms/step - loss: 0.1528 - accuracy: 0.9843 - val_loss: 6.1802 - val_accuracy: 0.6771\n",
      "Epoch 6/10\n",
      "19/19 [==============================] - 17s 903ms/step - loss: 0.0138 - accuracy: 0.9974 - val_loss: 4.2780 - val_accuracy: 0.7500\n",
      "Epoch 7/10\n",
      "19/19 [==============================] - 16s 863ms/step - loss: 2.3647e-04 - accuracy: 1.0000 - val_loss: 4.4407 - val_accuracy: 0.7917\n",
      "Epoch 8/10\n",
      "19/19 [==============================] - 17s 899ms/step - loss: 4.6428e-04 - accuracy: 1.0000 - val_loss: 4.3839 - val_accuracy: 0.8021\n",
      "Epoch 9/10\n",
      "19/19 [==============================] - 16s 872ms/step - loss: 7.3669e-06 - accuracy: 1.0000 - val_loss: 4.2951 - val_accuracy: 0.7708\n",
      "Epoch 10/10\n",
      "19/19 [==============================] - 16s 857ms/step - loss: 2.7581e-06 - accuracy: 1.0000 - val_loss: 4.2877 - val_accuracy: 0.7708\n",
      "3/3 [==============================] - 2s 623ms/step - loss: 4.2877 - accuracy: 0.7708\n"
     ]
    }
   ],
   "source": [
    "# Train the model\n",
    "inceptionv3_history = inceptionv3_model.fit(X_train, y_train, batch_size=42, validation_data=(X_val, y_val), epochs=10)\n",
    "\n",
    "# Evaluate the model on the validation data\n",
    "inceptionv3_loss, inceptionv3_accuracy = inceptionv3_model.evaluate(X_val, y_val)"
   ]
  },
  {
   "cell_type": "code",
   "execution_count": 11,
   "metadata": {
    "colab": {
     "base_uri": "https://localhost:8080/"
    },
    "executionInfo": {
     "elapsed": 32,
     "status": "ok",
     "timestamp": 1711097963200,
     "user": {
      "displayName": "Lisa",
      "userId": "18166468942816240099"
     },
     "user_tz": -480
    },
    "id": "7hSeGG7fvsnz",
    "outputId": "d3560d70-8782-443c-ccd1-99463b9348e9"
   },
   "outputs": [
    {
     "name": "stdout",
     "output_type": "stream",
     "text": [
      "Average Validation Loss: 5.305394983291626, Average Validation Accuracy: 0.7218749940395355\n"
     ]
    }
   ],
   "source": [
    "# Calculate average loss and accuracy\n",
    "average_loss = sum(inceptionv3_history.history['val_loss']) / len(inceptionv3_history.history['val_loss'])\n",
    "average_accuracy = sum(inceptionv3_history.history['val_accuracy']) / len(inceptionv3_history.history['val_accuracy'])\n",
    "\n",
    "print(f\"Average Validation Loss: {average_loss}, Average Validation Accuracy: {average_accuracy}\")"
   ]
  },
  {
   "cell_type": "code",
   "execution_count": 12,
   "metadata": {
    "colab": {
     "base_uri": "https://localhost:8080/",
     "height": 481
    },
    "executionInfo": {
     "elapsed": 1067,
     "status": "ok",
     "timestamp": 1711097964254,
     "user": {
      "displayName": "Lisa",
      "userId": "18166468942816240099"
     },
     "user_tz": -480
    },
    "id": "U1CyuVFpymEV",
    "outputId": "2846751b-e20c-4569-ff0f-217107073561"
   },
   "outputs": [
    {
     "data": {
      "image/png": "[encoded data removed]",
      "text/plain": [
       "<Figure size 864x432 with 2 Axes>"
      ]
     },
     "metadata": {
      "needs_background": "light"
     },
     "output_type": "display_data"
    }
   ],
   "source": [
    "plot_training_history(inceptionv3_history)"
   ]
  },
  {
   "cell_type": "markdown",
   "metadata": {
    "id": "8Z2qs3U70Fnc"
   },
   "source": [
    "# [6] Save Model"
   ]
  },
  {
   "cell_type": "markdown",
   "metadata": {
    "id": "ZWBdIcPq0Fnc"
   },
   "source": [
    "## [6.1] Google Colab"
   ]
  },
  {
   "cell_type": "code",
   "execution_count": null,
   "metadata": {
    "executionInfo": {
     "elapsed": 36630,
     "status": "ok",
     "timestamp": 1711098000850,
     "user": {
      "displayName": "Lisa",
      "userId": "18166468942816240099"
     },
     "user_tz": -480
    },
    "id": "yU84wDtcvsn0"
   },
   "outputs": [],
   "source": [
    "# Save model\n",
    "inceptionv3_model.save('/content/drive/MyDrive/FYP/models/InceptionV3_random')"
   ]
  },
  {
   "cell_type": "markdown",
   "metadata": {
    "id": "WM4ZTqnT0Fnd"
   },
   "source": [
    "## [6.2] Jupyter"
   ]
  },
  {
   "cell_type": "code",
   "execution_count": 13,
   "metadata": {
    "id": "CW1HdUBo0Fnd",
    "outputId": "d31719bf-2894-44a2-b42e-5015fbde33c5",
    "tags": []
   },
   "outputs": [
    {
     "name": "stderr",
     "output_type": "stream",
     "text": [
      "WARNING:absl:Found untraced functions such as _jit_compiled_convolution_op, _jit_compiled_convolution_op, _jit_compiled_convolution_op, _jit_compiled_convolution_op, _jit_compiled_convolution_op while saving (showing 5 of 95). These functions will not be directly callable after loading.\n"
     ]
    },
    {
     "name": "stdout",
     "output_type": "stream",
     "text": [
      "INFO:tensorflow:Assets written to: models/InceptionV3_random/assets\n"
     ]
    },
    {
     "name": "stderr",
     "output_type": "stream",
     "text": [
      "INFO:tensorflow:Assets written to: models/InceptionV3_random/assets\n"
     ]
    }
   ],
   "source": [
    "# Save model\n",
    "inceptionv3_model.save('models/InceptionV3_random')"
   ]
  },
  {
   "cell_type": "markdown",
   "metadata": {
    "id": "nX79wMZComiQ"
   },
   "source": [
    "# [6] Load Model"
   ]
  },
  {
   "cell_type": "markdown",
   "metadata": {
    "id": "h8wn7VsS0Fnd"
   },
   "source": [
    "## [6.1] Google Colab"
   ]
  },
  {
   "cell_type": "code",
   "execution_count": null,
   "metadata": {
    "executionInfo": {
     "elapsed": 18253,
     "status": "ok",
     "timestamp": 1711098019095,
     "user": {
      "displayName": "Lisa",
      "userId": "18166468942816240099"
     },
     "user_tz": -480
    },
    "id": "0mIr8wk90Fnd"
   },
   "outputs": [],
   "source": [
    "# Load the saved model\n",
    "loaded_inceptionv3_model = tf.keras.models.load_model('/content/drive/MyDrive/FYP/models/InceptionV3_random')"
   ]
  },
  {
   "cell_type": "markdown",
   "metadata": {
    "id": "k0ZEJqyl0Fne"
   },
   "source": [
    "## [6.2] Jupyter"
   ]
  },
  {
   "cell_type": "code",
   "execution_count": 15,
   "metadata": {
    "id": "A2dWKdYRvsn0"
   },
   "outputs": [],
   "source": [
    "# Load the saved model\n",
    "loaded_inceptionv3_model = tf.keras.models.load_model('models/InceptionV3_random')"
   ]
  },
  {
   "cell_type": "markdown",
   "metadata": {
    "id": "Ql-nfN-z788L",
    "tags": []
   },
   "source": [
    "# [7] Test and Analyse"
   ]
  },
  {
   "cell_type": "code",
   "execution_count": 16,
   "metadata": {
    "colab": {
     "base_uri": "https://localhost:8080/"
    },
    "executionInfo": {
     "elapsed": 43823,
     "status": "ok",
     "timestamp": 1711098062912,
     "user": {
      "displayName": "Lisa",
      "userId": "18166468942816240099"
     },
     "user_tz": -480
    },
    "id": "Aq3Ym1ddoohB",
    "outputId": "1a3eb913-87af-42e6-f7c7-327ce9bf67ce"
   },
   "outputs": [
    {
     "name": "stdout",
     "output_type": "stream",
     "text": [
      "3/3 [==============================] - 4s 652ms/step - loss: 2.6475 - accuracy: 0.7917\n",
      "Test Loss: 2.64745831489563, Test Accuracy: 0.7916666865348816\n"
     ]
    }
   ],
   "source": [
    "# Evaluate the model on the test data\n",
    "inceptionv3_test_loss, inceptionv3_test_accuracy = loaded_inceptionv3_model.evaluate(X_test, y_test)\n",
    "print(f\"Test Loss: {inceptionv3_test_loss}, Test Accuracy: {inceptionv3_test_accuracy}\")"
   ]
  },
  {
   "cell_type": "code",
   "execution_count": 17,
   "metadata": {
    "colab": {
     "base_uri": "https://localhost:8080/"
    },
    "executionInfo": {
     "elapsed": 44571,
     "status": "ok",
     "timestamp": 1711098107471,
     "user": {
      "displayName": "Lisa",
      "userId": "18166468942816240099"
     },
     "user_tz": -480
    },
    "id": "5wC1vyGUyzCA",
    "outputId": "ed26d212-2fc4-4b6f-d9a8-4b14690f3120"
   },
   "outputs": [
    {
     "name": "stdout",
     "output_type": "stream",
     "text": [
      "3/3 [==============================] - 2s 711ms/step - loss: 2.6475 - accuracy: 0.7917\n",
      "3/3 [==============================] - 3s 649ms/step\n"
     ]
    }
   ],
   "source": [
    "inceptionv3_predicted_labels, inceptionv3_true_labels_list = make_predictions_and_evaluate(loaded_inceptionv3_model, X_test, y_test)"
   ]
  },
  {
   "cell_type": "code",
   "execution_count": 18,
   "metadata": {
    "colab": {
     "base_uri": "https://localhost:8080/"
    },
    "executionInfo": {
     "elapsed": 18,
     "status": "ok",
     "timestamp": 1711098107471,
     "user": {
      "displayName": "Lisa",
      "userId": "18166468942816240099"
     },
     "user_tz": -480
    },
    "id": "4GoncbTF7XwO",
    "outputId": "7876861b-8e37-482a-baa0-59779db0061a"
   },
   "outputs": [
    {
     "name": "stdout",
     "output_type": "stream",
     "text": [
      "Accuracy: 0.7917\n",
      "Precision: 0.7821\n",
      "Recall: 0.7556\n",
      "F1 Score: 0.7686\n"
     ]
    }
   ],
   "source": [
    "calculate_classification_metrics(inceptionv3_true_labels_list, inceptionv3_predicted_labels)"
   ]
  },
  {
   "cell_type": "code",
   "execution_count": 19,
   "metadata": {
    "colab": {
     "base_uri": "https://localhost:8080/",
     "height": 564
    },
    "executionInfo": {
     "elapsed": 880,
     "status": "ok",
     "timestamp": 1711098108342,
     "user": {
      "displayName": "Lisa",
      "userId": "18166468942816240099"
     },
     "user_tz": -480
    },
    "id": "2hh3milIysU8",
    "outputId": "57772f8f-58c7-4188-fd17-a8c185a259fa"
   },
   "outputs": [
    {
     "data": {
      "image/png": "[encoded data removed]",
      "text/plain": [
       "<Figure size 576x432 with 1 Axes>"
      ]
     },
     "metadata": {
      "needs_background": "light"
     },
     "output_type": "display_data"
    }
   ],
   "source": [
    "display_confusion_matrix(inceptionv3_true_labels_list, inceptionv3_predicted_labels)"
   ]
  },
  {
   "cell_type": "code",
   "execution_count": null,
   "metadata": {},
   "outputs": [],
   "source": []
  }
 ],
 "metadata": {
  "colab": {
   "provenance": []
  },
  "kernelspec": {
   "display_name": "Python 3 (ipykernel)",
   "language": "python",
   "name": "python3"
  },
  "language_info": {
   "codemirror_mode": {
    "name": "ipython",
    "version": 3
   },
   "file_extension": ".py",
   "mimetype": "text/x-python",
   "name": "python",
   "nbconvert_exporter": "python",
   "pygments_lexer": "ipython3",
   "version": "3.7.16"
  }
 },
 "nbformat": 4,
 "nbformat_minor": 4
}
